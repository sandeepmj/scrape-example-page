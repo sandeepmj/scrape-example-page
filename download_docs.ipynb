{
 "cells": [
  {
   "cell_type": "code",
   "execution_count": 1,
   "metadata": {},
   "outputs": [],
   "source": [
    "# import libraries\n",
    "\n",
    "from bs4 import BeautifulSoup\n",
    "import requests\n",
    "# import numpy as np"
   ]
  },
  {
   "cell_type": "code",
   "execution_count": 2,
   "metadata": {},
   "outputs": [],
   "source": [
    "# url to scrape\n",
    "url = \"https://sandeepmj.github.io/scrape-example-page/pages.html\""
   ]
  },
  {
   "cell_type": "code",
   "execution_count": 3,
   "metadata": {},
   "outputs": [
    {
     "name": "stdout",
     "output_type": "stream",
     "text": [
      "<html lang=\"en\">\n",
      "<head>\n",
      "<!-- Makes the page responsive and scaled to be read easily -->\n",
      "<meta content=\"width=device-width, initial-scale=1\" name=\"viewport\"/>\n",
      "<!-- Links to stylesheet -->\n",
      "<link href=\"style.css\" rel=\"stylesheet\" type=\"text/css\"/>\n",
      "<!-- Remember to update page title -->\n",
      "<title>List of Documents</title>\n",
      "</head>\n",
      "<body>\n",
      "<!-- All content goes here -->\n",
      "<div class=\"container\">\n",
      "<h1>Documents to Download</h1>\n",
      "<ul class=\"txts downloadable\">\n",
      "<p class=\"pages\">Download this list of text documents</p>\n",
      "<li>Text Document <a href=\"/files/text_doc1.txt\">1</a> </li>\n",
      "<li>Text Document <a href=\"/files/text_doc2.txt\">2</a></li>\n",
      "<li>Text Document <a href=\"/files/text_doc3.txt\">3</a></li>\n",
      "<li>Text Document <a href=\"/files/text_doc4.txt\">4</a></li>\n",
      "<li>Text Document <a href=\"/files/text_doc5.txt\">5</a></li>\n",
      "<li>Text Document <a href=\"/files/text_doc6.txt\">6</a></li>\n",
      "<li>Text Document <a href=\"/files/text_doc7.txt\">7</a></li>\n",
      "<li>Text Document <a href=\"/files/text_doc8.txt\">8</a></li>\n",
      "<li>Text Document <a href=\"/files/text_doc9.txt\">9</a></li>\n",
      "<li>Text Document <a href=\"/files/text_doc10.txt\">10</a></li>\n",
      "</ul>\n",
      "<ul class=\"pdfs downloadable\">\n",
      "<p class=\"pages\">Download this list of PDFs</p>\n",
      "<li>PDF Document <a href=\"/files/pdf_1.pdf\">1</a> </li>\n",
      "<li>PDF Document <a href=\"/files/pdf_2.pdf\">2</a></li>\n",
      "<li>PDF Document <a href=\"/files/pdf_3.pdf\">3</a></li>\n",
      "<li>PDF Document <a href=\"/files/pdf_4.pdf\">4</a></li>\n",
      "<li>PDF Document <a href=\"/files/pdf_5.pdf\">5</a></li>\n",
      "<li>PDF Document <a href=\"/files/pdf_6.pdf\">6</a></li>\n",
      "<li>PDF Document <a href=\"/files/pdf_7.pdf\">7</a></li>\n",
      "<li>PDF Document <a href=\"/files/pdf_8.pdf\">8</a></li>\n",
      "<li>PDF Document <a href=\"/files/pdf_9.pdf\">9</a></li>\n",
      "<li>PDF Document <a href=\"/files/pdf_10.pdf\">10</a></li>\n",
      "</ul>\n",
      "</div>\n",
      "</body>\n",
      "</html>\n"
     ]
    }
   ],
   "source": [
    "## get url and print but hard to read. will do prettify next\n",
    "page = requests.get(url)\n",
    "soup = BeautifulSoup(page.content, \"html.parser\")\n",
    "print(soup)"
   ]
  },
  {
   "cell_type": "code",
   "execution_count": 4,
   "metadata": {},
   "outputs": [
    {
     "name": "stdout",
     "output_type": "stream",
     "text": [
      "[<ul class=\"txts downloadable\">\n",
      "<p class=\"pages\">Download this list of text documents</p>\n",
      "<li>Text Document <a href=\"/files/text_doc1.txt\">1</a> </li>\n",
      "<li>Text Document <a href=\"/files/text_doc2.txt\">2</a></li>\n",
      "<li>Text Document <a href=\"/files/text_doc3.txt\">3</a></li>\n",
      "<li>Text Document <a href=\"/files/text_doc4.txt\">4</a></li>\n",
      "<li>Text Document <a href=\"/files/text_doc5.txt\">5</a></li>\n",
      "<li>Text Document <a href=\"/files/text_doc6.txt\">6</a></li>\n",
      "<li>Text Document <a href=\"/files/text_doc7.txt\">7</a></li>\n",
      "<li>Text Document <a href=\"/files/text_doc8.txt\">8</a></li>\n",
      "<li>Text Document <a href=\"/files/text_doc9.txt\">9</a></li>\n",
      "<li>Text Document <a href=\"/files/text_doc10.txt\">10</a></li>\n",
      "</ul>]\n"
     ]
    }
   ],
   "source": [
    "txt_holder = soup.find_all(\"ul\", {\"class\": \"txts\"})\n",
    "print(txt_holder)"
   ]
  },
  {
   "cell_type": "code",
   "execution_count": 5,
   "metadata": {},
   "outputs": [
    {
     "name": "stdout",
     "output_type": "stream",
     "text": [
      "<class 'bs4.element.ResultSet'>\n",
      "[<a href=\"/files/text_doc1.txt\">1</a>, <a href=\"/files/text_doc2.txt\">2</a>, <a href=\"/files/text_doc3.txt\">3</a>, <a href=\"/files/text_doc4.txt\">4</a>, <a href=\"/files/text_doc5.txt\">5</a>, <a href=\"/files/text_doc6.txt\">6</a>, <a href=\"/files/text_doc7.txt\">7</a>, <a href=\"/files/text_doc8.txt\">8</a>, <a href=\"/files/text_doc9.txt\">9</a>, <a href=\"/files/text_doc10.txt\">10</a>]\n"
     ]
    }
   ],
   "source": [
    "for txt_files in txt_holder:\n",
    "    txt_file_links = txt_files.find_all(\"a\")\n",
    "    print(type(txt_file_links))\n",
    "    print(txt_file_links)"
   ]
  },
  {
   "cell_type": "code",
   "execution_count": 8,
   "metadata": {},
   "outputs": [],
   "source": [
    "base_url = \"https://sandeepmj.github.io/scrape-example-page\""
   ]
  },
  {
   "cell_type": "code",
   "execution_count": 21,
   "metadata": {},
   "outputs": [
    {
     "name": "stdout",
     "output_type": "stream",
     "text": [
      "['https://sandeepmj.github.io/scrape-example-page/files/text_doc1.txt', 'https://sandeepmj.github.io/scrape-example-page/files/text_doc2.txt', 'https://sandeepmj.github.io/scrape-example-page/files/text_doc3.txt', 'https://sandeepmj.github.io/scrape-example-page/files/text_doc4.txt', 'https://sandeepmj.github.io/scrape-example-page/files/text_doc5.txt', 'https://sandeepmj.github.io/scrape-example-page/files/text_doc6.txt', 'https://sandeepmj.github.io/scrape-example-page/files/text_doc7.txt', 'https://sandeepmj.github.io/scrape-example-page/files/text_doc8.txt', 'https://sandeepmj.github.io/scrape-example-page/files/text_doc9.txt', 'https://sandeepmj.github.io/scrape-example-page/files/text_doc10.txt']\n"
     ]
    }
   ],
   "source": [
    "# for txt_file in txt_files:\n",
    "#     print(txt_file.get(\"href\"))\n",
    "\n",
    "all_txt_links = [base_url + txt_file_link.get(\"href\") for txt_file_link in txt_file_links]\n",
    "print(all_txt_links)"
   ]
  },
  {
   "cell_type": "code",
   "execution_count": 22,
   "metadata": {},
   "outputs": [],
   "source": [
    "import time # time is required. we will use its sleep function\n",
    "from random import randrange # generate random numbers\n",
    "import wget # can put down documents, files from websites"
   ]
  },
  {
   "cell_type": "code",
   "execution_count": 23,
   "metadata": {},
   "outputs": [
    {
     "name": "stdout",
     "output_type": "stream",
     "text": [
      "Downloaded link 1 of 10\n",
      "snoozing for 5 seconds before scraping next link.\n",
      "Downloaded link 2 of 10\n",
      "snoozing for 4 seconds before scraping next link.\n",
      "Downloaded link 3 of 10\n",
      "snoozing for 3 seconds before scraping next link.\n",
      "Downloaded link 4 of 10\n",
      "snoozing for 4 seconds before scraping next link.\n",
      "Downloaded link 5 of 10\n",
      "snoozing for 5 seconds before scraping next link.\n",
      "Downloaded link 6 of 10\n",
      "snoozing for 5 seconds before scraping next link.\n",
      "Downloaded link 7 of 10\n",
      "snoozing for 3 seconds before scraping next link.\n",
      "Downloaded link 8 of 10\n",
      "snoozing for 3 seconds before scraping next link.\n",
      "Downloaded link 9 of 10\n",
      "snoozing for 4 seconds before scraping next link.\n",
      "Downloaded link 10 of 10\n",
      "snoozing for 3 seconds before scraping next link.\n"
     ]
    }
   ],
   "source": [
    "links_number = len(all_txt_links)\n",
    "link_count = 1\n",
    "for link in all_txt_links:\n",
    "    print(f\"Downloaded link {link_count} of {links_number}\")\n",
    "    wget.download(link, \"\")\n",
    "    link_count += 1\n",
    "    snooze = randrange(3,6)\n",
    "    print(f\"snoozing for {snooze} seconds before scraping next link.\")\n",
    "    time.sleep(snooze)"
   ]
  },
  {
   "cell_type": "code",
   "execution_count": 18,
   "metadata": {},
   "outputs": [
    {
     "name": "stdout",
     "output_type": "stream",
     "text": [
      "[<ul class=\"pdfs downloadable\">\n",
      "<p class=\"pages\">Download this list of PDFs</p>\n",
      "<li>PDF Document <a href=\"/files/pdf_1.pdf\">1</a> </li>\n",
      "<li>PDF Document <a href=\"/files/pdf_2.pdf\">2</a></li>\n",
      "<li>PDF Document <a href=\"/files/pdf_3.pdf\">3</a></li>\n",
      "<li>PDF Document <a href=\"/files/pdf_4.pdf\">4</a></li>\n",
      "<li>PDF Document <a href=\"/files/pdf_5.pdf\">5</a></li>\n",
      "<li>PDF Document <a href=\"/files/pdf_6.pdf\">6</a></li>\n",
      "<li>PDF Document <a href=\"/files/pdf_7.pdf\">7</a></li>\n",
      "<li>PDF Document <a href=\"/files/pdf_8.pdf\">8</a></li>\n",
      "<li>PDF Document <a href=\"/files/pdf_9.pdf\">9</a></li>\n",
      "<li>PDF Document <a href=\"/files/pdf_10.pdf\">10</a></li>\n",
      "</ul>]\n"
     ]
    }
   ],
   "source": [
    "pdf_holder = soup.find_all(\"ul\", {\"class\": \"pdfs\"})\n",
    "print(pdf_holder)"
   ]
  },
  {
   "cell_type": "code",
   "execution_count": 19,
   "metadata": {},
   "outputs": [
    {
     "name": "stdout",
     "output_type": "stream",
     "text": [
      "<class 'bs4.element.ResultSet'>\n",
      "[<a href=\"/files/pdf_1.pdf\">1</a>, <a href=\"/files/pdf_2.pdf\">2</a>, <a href=\"/files/pdf_3.pdf\">3</a>, <a href=\"/files/pdf_4.pdf\">4</a>, <a href=\"/files/pdf_5.pdf\">5</a>, <a href=\"/files/pdf_6.pdf\">6</a>, <a href=\"/files/pdf_7.pdf\">7</a>, <a href=\"/files/pdf_8.pdf\">8</a>, <a href=\"/files/pdf_9.pdf\">9</a>, <a href=\"/files/pdf_10.pdf\">10</a>]\n"
     ]
    }
   ],
   "source": [
    "for pdf_files in pdf_holder:\n",
    "    pdf_file_links = pdf_files.find_all(\"a\")\n",
    "    print(type(pdf_file_links))\n",
    "    print(pdf_file_links)"
   ]
  },
  {
   "cell_type": "code",
   "execution_count": 20,
   "metadata": {},
   "outputs": [
    {
     "name": "stdout",
     "output_type": "stream",
     "text": [
      "['https://sandeepmj.github.io/scrape-example-page/files/pdf_1.pdf', 'https://sandeepmj.github.io/scrape-example-page/files/pdf_2.pdf', 'https://sandeepmj.github.io/scrape-example-page/files/pdf_3.pdf', 'https://sandeepmj.github.io/scrape-example-page/files/pdf_4.pdf', 'https://sandeepmj.github.io/scrape-example-page/files/pdf_5.pdf', 'https://sandeepmj.github.io/scrape-example-page/files/pdf_6.pdf', 'https://sandeepmj.github.io/scrape-example-page/files/pdf_7.pdf', 'https://sandeepmj.github.io/scrape-example-page/files/pdf_8.pdf', 'https://sandeepmj.github.io/scrape-example-page/files/pdf_9.pdf', 'https://sandeepmj.github.io/scrape-example-page/files/pdf_10.pdf']\n"
     ]
    }
   ],
   "source": [
    "all_pdf_links = [base_url + pdf_file_link.get(\"href\") for pdf_file_link in pdf_file_links]\n",
    "print(all_pdf_links)"
   ]
  },
  {
   "cell_type": "code",
   "execution_count": 24,
   "metadata": {},
   "outputs": [
    {
     "name": "stdout",
     "output_type": "stream",
     "text": [
      "Downloaded link 1 of 10\n"
     ]
    },
    {
     "ename": "HTTPError",
     "evalue": "HTTP Error 404: Not Found",
     "output_type": "error",
     "traceback": [
      "\u001b[0;31m---------------------------------------------------------------------------\u001b[0m",
      "\u001b[0;31mHTTPError\u001b[0m                                 Traceback (most recent call last)",
      "\u001b[0;32m<ipython-input-24-c71b75278bc9>\u001b[0m in \u001b[0;36m<module>\u001b[0;34m\u001b[0m\n\u001b[1;32m      3\u001b[0m \u001b[0;32mfor\u001b[0m \u001b[0mlink\u001b[0m \u001b[0;32min\u001b[0m \u001b[0mall_pdf_links\u001b[0m\u001b[0;34m:\u001b[0m\u001b[0;34m\u001b[0m\u001b[0;34m\u001b[0m\u001b[0m\n\u001b[1;32m      4\u001b[0m     \u001b[0mprint\u001b[0m\u001b[0;34m(\u001b[0m\u001b[0;34mf\"Downloaded link {link_count} of {links_number}\"\u001b[0m\u001b[0;34m)\u001b[0m\u001b[0;34m\u001b[0m\u001b[0;34m\u001b[0m\u001b[0m\n\u001b[0;32m----> 5\u001b[0;31m     \u001b[0mwget\u001b[0m\u001b[0;34m.\u001b[0m\u001b[0mdownload\u001b[0m\u001b[0;34m(\u001b[0m\u001b[0mlink\u001b[0m\u001b[0;34m,\u001b[0m \u001b[0;34m\"\"\u001b[0m\u001b[0;34m)\u001b[0m\u001b[0;34m\u001b[0m\u001b[0;34m\u001b[0m\u001b[0m\n\u001b[0m\u001b[1;32m      6\u001b[0m     \u001b[0mlink_count\u001b[0m \u001b[0;34m+=\u001b[0m \u001b[0;36m1\u001b[0m\u001b[0;34m\u001b[0m\u001b[0;34m\u001b[0m\u001b[0m\n\u001b[1;32m      7\u001b[0m     \u001b[0msnooze\u001b[0m \u001b[0;34m=\u001b[0m \u001b[0mrandrange\u001b[0m\u001b[0;34m(\u001b[0m\u001b[0;36m3\u001b[0m\u001b[0;34m,\u001b[0m\u001b[0;36m6\u001b[0m\u001b[0;34m)\u001b[0m\u001b[0;34m\u001b[0m\u001b[0;34m\u001b[0m\u001b[0m\n",
      "\u001b[0;32m~/opt/anaconda3/lib/python3.7/site-packages/wget.py\u001b[0m in \u001b[0;36mdownload\u001b[0;34m(url, out, bar)\u001b[0m\n\u001b[1;32m    524\u001b[0m     \u001b[0;32melse\u001b[0m\u001b[0;34m:\u001b[0m\u001b[0;34m\u001b[0m\u001b[0;34m\u001b[0m\u001b[0m\n\u001b[1;32m    525\u001b[0m         \u001b[0mbinurl\u001b[0m \u001b[0;34m=\u001b[0m \u001b[0murl\u001b[0m\u001b[0;34m\u001b[0m\u001b[0;34m\u001b[0m\u001b[0m\n\u001b[0;32m--> 526\u001b[0;31m     \u001b[0;34m(\u001b[0m\u001b[0mtmpfile\u001b[0m\u001b[0;34m,\u001b[0m \u001b[0mheaders\u001b[0m\u001b[0;34m)\u001b[0m \u001b[0;34m=\u001b[0m \u001b[0mulib\u001b[0m\u001b[0;34m.\u001b[0m\u001b[0murlretrieve\u001b[0m\u001b[0;34m(\u001b[0m\u001b[0mbinurl\u001b[0m\u001b[0;34m,\u001b[0m \u001b[0mtmpfile\u001b[0m\u001b[0;34m,\u001b[0m \u001b[0mcallback\u001b[0m\u001b[0;34m)\u001b[0m\u001b[0;34m\u001b[0m\u001b[0;34m\u001b[0m\u001b[0m\n\u001b[0m\u001b[1;32m    527\u001b[0m     \u001b[0mfilename\u001b[0m \u001b[0;34m=\u001b[0m \u001b[0mdetect_filename\u001b[0m\u001b[0;34m(\u001b[0m\u001b[0murl\u001b[0m\u001b[0;34m,\u001b[0m \u001b[0mout\u001b[0m\u001b[0;34m,\u001b[0m \u001b[0mheaders\u001b[0m\u001b[0;34m)\u001b[0m\u001b[0;34m\u001b[0m\u001b[0;34m\u001b[0m\u001b[0m\n\u001b[1;32m    528\u001b[0m     \u001b[0;32mif\u001b[0m \u001b[0moutdir\u001b[0m\u001b[0;34m:\u001b[0m\u001b[0;34m\u001b[0m\u001b[0;34m\u001b[0m\u001b[0m\n",
      "\u001b[0;32m~/opt/anaconda3/lib/python3.7/urllib/request.py\u001b[0m in \u001b[0;36murlretrieve\u001b[0;34m(url, filename, reporthook, data)\u001b[0m\n\u001b[1;32m    245\u001b[0m     \u001b[0murl_type\u001b[0m\u001b[0;34m,\u001b[0m \u001b[0mpath\u001b[0m \u001b[0;34m=\u001b[0m \u001b[0msplittype\u001b[0m\u001b[0;34m(\u001b[0m\u001b[0murl\u001b[0m\u001b[0;34m)\u001b[0m\u001b[0;34m\u001b[0m\u001b[0;34m\u001b[0m\u001b[0m\n\u001b[1;32m    246\u001b[0m \u001b[0;34m\u001b[0m\u001b[0m\n\u001b[0;32m--> 247\u001b[0;31m     \u001b[0;32mwith\u001b[0m \u001b[0mcontextlib\u001b[0m\u001b[0;34m.\u001b[0m\u001b[0mclosing\u001b[0m\u001b[0;34m(\u001b[0m\u001b[0murlopen\u001b[0m\u001b[0;34m(\u001b[0m\u001b[0murl\u001b[0m\u001b[0;34m,\u001b[0m \u001b[0mdata\u001b[0m\u001b[0;34m)\u001b[0m\u001b[0;34m)\u001b[0m \u001b[0;32mas\u001b[0m \u001b[0mfp\u001b[0m\u001b[0;34m:\u001b[0m\u001b[0;34m\u001b[0m\u001b[0;34m\u001b[0m\u001b[0m\n\u001b[0m\u001b[1;32m    248\u001b[0m         \u001b[0mheaders\u001b[0m \u001b[0;34m=\u001b[0m \u001b[0mfp\u001b[0m\u001b[0;34m.\u001b[0m\u001b[0minfo\u001b[0m\u001b[0;34m(\u001b[0m\u001b[0;34m)\u001b[0m\u001b[0;34m\u001b[0m\u001b[0;34m\u001b[0m\u001b[0m\n\u001b[1;32m    249\u001b[0m \u001b[0;34m\u001b[0m\u001b[0m\n",
      "\u001b[0;32m~/opt/anaconda3/lib/python3.7/urllib/request.py\u001b[0m in \u001b[0;36murlopen\u001b[0;34m(url, data, timeout, cafile, capath, cadefault, context)\u001b[0m\n\u001b[1;32m    220\u001b[0m     \u001b[0;32melse\u001b[0m\u001b[0;34m:\u001b[0m\u001b[0;34m\u001b[0m\u001b[0;34m\u001b[0m\u001b[0m\n\u001b[1;32m    221\u001b[0m         \u001b[0mopener\u001b[0m \u001b[0;34m=\u001b[0m \u001b[0m_opener\u001b[0m\u001b[0;34m\u001b[0m\u001b[0;34m\u001b[0m\u001b[0m\n\u001b[0;32m--> 222\u001b[0;31m     \u001b[0;32mreturn\u001b[0m \u001b[0mopener\u001b[0m\u001b[0;34m.\u001b[0m\u001b[0mopen\u001b[0m\u001b[0;34m(\u001b[0m\u001b[0murl\u001b[0m\u001b[0;34m,\u001b[0m \u001b[0mdata\u001b[0m\u001b[0;34m,\u001b[0m \u001b[0mtimeout\u001b[0m\u001b[0;34m)\u001b[0m\u001b[0;34m\u001b[0m\u001b[0;34m\u001b[0m\u001b[0m\n\u001b[0m\u001b[1;32m    223\u001b[0m \u001b[0;34m\u001b[0m\u001b[0m\n\u001b[1;32m    224\u001b[0m \u001b[0;32mdef\u001b[0m \u001b[0minstall_opener\u001b[0m\u001b[0;34m(\u001b[0m\u001b[0mopener\u001b[0m\u001b[0;34m)\u001b[0m\u001b[0;34m:\u001b[0m\u001b[0;34m\u001b[0m\u001b[0;34m\u001b[0m\u001b[0m\n",
      "\u001b[0;32m~/opt/anaconda3/lib/python3.7/urllib/request.py\u001b[0m in \u001b[0;36mopen\u001b[0;34m(self, fullurl, data, timeout)\u001b[0m\n\u001b[1;32m    529\u001b[0m         \u001b[0;32mfor\u001b[0m \u001b[0mprocessor\u001b[0m \u001b[0;32min\u001b[0m \u001b[0mself\u001b[0m\u001b[0;34m.\u001b[0m\u001b[0mprocess_response\u001b[0m\u001b[0;34m.\u001b[0m\u001b[0mget\u001b[0m\u001b[0;34m(\u001b[0m\u001b[0mprotocol\u001b[0m\u001b[0;34m,\u001b[0m \u001b[0;34m[\u001b[0m\u001b[0;34m]\u001b[0m\u001b[0;34m)\u001b[0m\u001b[0;34m:\u001b[0m\u001b[0;34m\u001b[0m\u001b[0;34m\u001b[0m\u001b[0m\n\u001b[1;32m    530\u001b[0m             \u001b[0mmeth\u001b[0m \u001b[0;34m=\u001b[0m \u001b[0mgetattr\u001b[0m\u001b[0;34m(\u001b[0m\u001b[0mprocessor\u001b[0m\u001b[0;34m,\u001b[0m \u001b[0mmeth_name\u001b[0m\u001b[0;34m)\u001b[0m\u001b[0;34m\u001b[0m\u001b[0;34m\u001b[0m\u001b[0m\n\u001b[0;32m--> 531\u001b[0;31m             \u001b[0mresponse\u001b[0m \u001b[0;34m=\u001b[0m \u001b[0mmeth\u001b[0m\u001b[0;34m(\u001b[0m\u001b[0mreq\u001b[0m\u001b[0;34m,\u001b[0m \u001b[0mresponse\u001b[0m\u001b[0;34m)\u001b[0m\u001b[0;34m\u001b[0m\u001b[0;34m\u001b[0m\u001b[0m\n\u001b[0m\u001b[1;32m    532\u001b[0m \u001b[0;34m\u001b[0m\u001b[0m\n\u001b[1;32m    533\u001b[0m         \u001b[0;32mreturn\u001b[0m \u001b[0mresponse\u001b[0m\u001b[0;34m\u001b[0m\u001b[0;34m\u001b[0m\u001b[0m\n",
      "\u001b[0;32m~/opt/anaconda3/lib/python3.7/urllib/request.py\u001b[0m in \u001b[0;36mhttp_response\u001b[0;34m(self, request, response)\u001b[0m\n\u001b[1;32m    639\u001b[0m         \u001b[0;32mif\u001b[0m \u001b[0;32mnot\u001b[0m \u001b[0;34m(\u001b[0m\u001b[0;36m200\u001b[0m \u001b[0;34m<=\u001b[0m \u001b[0mcode\u001b[0m \u001b[0;34m<\u001b[0m \u001b[0;36m300\u001b[0m\u001b[0;34m)\u001b[0m\u001b[0;34m:\u001b[0m\u001b[0;34m\u001b[0m\u001b[0;34m\u001b[0m\u001b[0m\n\u001b[1;32m    640\u001b[0m             response = self.parent.error(\n\u001b[0;32m--> 641\u001b[0;31m                 'http', request, response, code, msg, hdrs)\n\u001b[0m\u001b[1;32m    642\u001b[0m \u001b[0;34m\u001b[0m\u001b[0m\n\u001b[1;32m    643\u001b[0m         \u001b[0;32mreturn\u001b[0m \u001b[0mresponse\u001b[0m\u001b[0;34m\u001b[0m\u001b[0;34m\u001b[0m\u001b[0m\n",
      "\u001b[0;32m~/opt/anaconda3/lib/python3.7/urllib/request.py\u001b[0m in \u001b[0;36merror\u001b[0;34m(self, proto, *args)\u001b[0m\n\u001b[1;32m    567\u001b[0m         \u001b[0;32mif\u001b[0m \u001b[0mhttp_err\u001b[0m\u001b[0;34m:\u001b[0m\u001b[0;34m\u001b[0m\u001b[0;34m\u001b[0m\u001b[0m\n\u001b[1;32m    568\u001b[0m             \u001b[0margs\u001b[0m \u001b[0;34m=\u001b[0m \u001b[0;34m(\u001b[0m\u001b[0mdict\u001b[0m\u001b[0;34m,\u001b[0m \u001b[0;34m'default'\u001b[0m\u001b[0;34m,\u001b[0m \u001b[0;34m'http_error_default'\u001b[0m\u001b[0;34m)\u001b[0m \u001b[0;34m+\u001b[0m \u001b[0morig_args\u001b[0m\u001b[0;34m\u001b[0m\u001b[0;34m\u001b[0m\u001b[0m\n\u001b[0;32m--> 569\u001b[0;31m             \u001b[0;32mreturn\u001b[0m \u001b[0mself\u001b[0m\u001b[0;34m.\u001b[0m\u001b[0m_call_chain\u001b[0m\u001b[0;34m(\u001b[0m\u001b[0;34m*\u001b[0m\u001b[0margs\u001b[0m\u001b[0;34m)\u001b[0m\u001b[0;34m\u001b[0m\u001b[0;34m\u001b[0m\u001b[0m\n\u001b[0m\u001b[1;32m    570\u001b[0m \u001b[0;34m\u001b[0m\u001b[0m\n\u001b[1;32m    571\u001b[0m \u001b[0;31m# XXX probably also want an abstract factory that knows when it makes\u001b[0m\u001b[0;34m\u001b[0m\u001b[0;34m\u001b[0m\u001b[0;34m\u001b[0m\u001b[0m\n",
      "\u001b[0;32m~/opt/anaconda3/lib/python3.7/urllib/request.py\u001b[0m in \u001b[0;36m_call_chain\u001b[0;34m(self, chain, kind, meth_name, *args)\u001b[0m\n\u001b[1;32m    501\u001b[0m         \u001b[0;32mfor\u001b[0m \u001b[0mhandler\u001b[0m \u001b[0;32min\u001b[0m \u001b[0mhandlers\u001b[0m\u001b[0;34m:\u001b[0m\u001b[0;34m\u001b[0m\u001b[0;34m\u001b[0m\u001b[0m\n\u001b[1;32m    502\u001b[0m             \u001b[0mfunc\u001b[0m \u001b[0;34m=\u001b[0m \u001b[0mgetattr\u001b[0m\u001b[0;34m(\u001b[0m\u001b[0mhandler\u001b[0m\u001b[0;34m,\u001b[0m \u001b[0mmeth_name\u001b[0m\u001b[0;34m)\u001b[0m\u001b[0;34m\u001b[0m\u001b[0;34m\u001b[0m\u001b[0m\n\u001b[0;32m--> 503\u001b[0;31m             \u001b[0mresult\u001b[0m \u001b[0;34m=\u001b[0m \u001b[0mfunc\u001b[0m\u001b[0;34m(\u001b[0m\u001b[0;34m*\u001b[0m\u001b[0margs\u001b[0m\u001b[0;34m)\u001b[0m\u001b[0;34m\u001b[0m\u001b[0;34m\u001b[0m\u001b[0m\n\u001b[0m\u001b[1;32m    504\u001b[0m             \u001b[0;32mif\u001b[0m \u001b[0mresult\u001b[0m \u001b[0;32mis\u001b[0m \u001b[0;32mnot\u001b[0m \u001b[0;32mNone\u001b[0m\u001b[0;34m:\u001b[0m\u001b[0;34m\u001b[0m\u001b[0;34m\u001b[0m\u001b[0m\n\u001b[1;32m    505\u001b[0m                 \u001b[0;32mreturn\u001b[0m \u001b[0mresult\u001b[0m\u001b[0;34m\u001b[0m\u001b[0;34m\u001b[0m\u001b[0m\n",
      "\u001b[0;32m~/opt/anaconda3/lib/python3.7/urllib/request.py\u001b[0m in \u001b[0;36mhttp_error_default\u001b[0;34m(self, req, fp, code, msg, hdrs)\u001b[0m\n\u001b[1;32m    647\u001b[0m \u001b[0;32mclass\u001b[0m \u001b[0mHTTPDefaultErrorHandler\u001b[0m\u001b[0;34m(\u001b[0m\u001b[0mBaseHandler\u001b[0m\u001b[0;34m)\u001b[0m\u001b[0;34m:\u001b[0m\u001b[0;34m\u001b[0m\u001b[0;34m\u001b[0m\u001b[0m\n\u001b[1;32m    648\u001b[0m     \u001b[0;32mdef\u001b[0m \u001b[0mhttp_error_default\u001b[0m\u001b[0;34m(\u001b[0m\u001b[0mself\u001b[0m\u001b[0;34m,\u001b[0m \u001b[0mreq\u001b[0m\u001b[0;34m,\u001b[0m \u001b[0mfp\u001b[0m\u001b[0;34m,\u001b[0m \u001b[0mcode\u001b[0m\u001b[0;34m,\u001b[0m \u001b[0mmsg\u001b[0m\u001b[0;34m,\u001b[0m \u001b[0mhdrs\u001b[0m\u001b[0;34m)\u001b[0m\u001b[0;34m:\u001b[0m\u001b[0;34m\u001b[0m\u001b[0;34m\u001b[0m\u001b[0m\n\u001b[0;32m--> 649\u001b[0;31m         \u001b[0;32mraise\u001b[0m \u001b[0mHTTPError\u001b[0m\u001b[0;34m(\u001b[0m\u001b[0mreq\u001b[0m\u001b[0;34m.\u001b[0m\u001b[0mfull_url\u001b[0m\u001b[0;34m,\u001b[0m \u001b[0mcode\u001b[0m\u001b[0;34m,\u001b[0m \u001b[0mmsg\u001b[0m\u001b[0;34m,\u001b[0m \u001b[0mhdrs\u001b[0m\u001b[0;34m,\u001b[0m \u001b[0mfp\u001b[0m\u001b[0;34m)\u001b[0m\u001b[0;34m\u001b[0m\u001b[0;34m\u001b[0m\u001b[0m\n\u001b[0m\u001b[1;32m    650\u001b[0m \u001b[0;34m\u001b[0m\u001b[0m\n\u001b[1;32m    651\u001b[0m \u001b[0;32mclass\u001b[0m \u001b[0mHTTPRedirectHandler\u001b[0m\u001b[0;34m(\u001b[0m\u001b[0mBaseHandler\u001b[0m\u001b[0;34m)\u001b[0m\u001b[0;34m:\u001b[0m\u001b[0;34m\u001b[0m\u001b[0;34m\u001b[0m\u001b[0m\n",
      "\u001b[0;31mHTTPError\u001b[0m: HTTP Error 404: Not Found"
     ]
    }
   ],
   "source": [
    "links_number = len(all_pdf_links)\n",
    "link_count = 1\n",
    "for link in all_pdf_links:\n",
    "    print(f\"Downloaded link {link_count} of {links_number}\")\n",
    "    wget.download(link, \"\")\n",
    "    link_count += 1\n",
    "    snooze = randrange(3,6)\n",
    "    print(f\"snoozing for {snooze} seconds before scraping next link.\")\n",
    "    time.sleep(snooze)"
   ]
  },
  {
   "cell_type": "code",
   "execution_count": null,
   "metadata": {},
   "outputs": [],
   "source": []
  }
 ],
 "metadata": {
  "kernelspec": {
   "display_name": "Python 3",
   "language": "python",
   "name": "python3"
  },
  "language_info": {
   "codemirror_mode": {
    "name": "ipython",
    "version": 3
   },
   "file_extension": ".py",
   "mimetype": "text/x-python",
   "name": "python",
   "nbconvert_exporter": "python",
   "pygments_lexer": "ipython3",
   "version": "3.7.7"
  }
 },
 "nbformat": 4,
 "nbformat_minor": 4
}
