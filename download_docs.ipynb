{
 "cells": [
  {
   "cell_type": "code",
   "execution_count": 1,
   "metadata": {},
   "outputs": [],
   "source": [
    "# import libraries\n",
    "\n",
    "from bs4 import BeautifulSoup\n",
    "import requests\n",
    "# import numpy as np"
   ]
  },
  {
   "cell_type": "code",
   "execution_count": 2,
   "metadata": {},
   "outputs": [],
   "source": [
    "# url to scrape\n",
    "url = \"https://sandeepmj.github.io/scrape-example-page/pages.html\""
   ]
  },
  {
   "cell_type": "code",
   "execution_count": 3,
   "metadata": {},
   "outputs": [
    {
     "name": "stdout",
     "output_type": "stream",
     "text": [
      "<html lang=\"en\">\n",
      "<head>\n",
      "<!-- Makes the page responsive and scaled to be read easily -->\n",
      "<meta content=\"width=device-width, initial-scale=1\" name=\"viewport\"/>\n",
      "<!-- Links to stylesheet -->\n",
      "<link href=\"style.css\" rel=\"stylesheet\" type=\"text/css\"/>\n",
      "<!-- Remember to update page title -->\n",
      "<title>List of Documents</title>\n",
      "</head>\n",
      "<body>\n",
      "<!-- All content goes here -->\n",
      "<div class=\"container\">\n",
      "<h1>Documents to Download</h1>\n",
      "<ul class=\"txts downloadable\">\n",
      "<p class=\"pages\">Download this list of text documents</p>\n",
      "<li>Text Document <a href=\"text_doc1.txt\">1</a> </li>\n",
      "<li>Text Document <a href=\"text_doc2.txt\">2</a></li>\n",
      "<li>Text Document <a href=\"text_doc3.txt\">3</a></li>\n",
      "<li>Text Document <a href=\"text_doc4.txt\">4</a></li>\n",
      "<li>Text Document <a href=\"text_doc5.txt\">5</a></li>\n",
      "<li>Text Document <a href=\"text_doc6.txt\">6</a></li>\n",
      "<li>Text Document <a href=\"text_doc7.txt\">7</a></li>\n",
      "<li>Text Document <a href=\"text_doc8.txt\">8</a></li>\n",
      "<li>Text Document <a href=\"text_doc9.txt\">9</a></li>\n",
      "<li>Text Document <a href=\"text_doc10.txt\">10</a></li>\n",
      "</ul>\n",
      "<ul class=\"pdfs downloadable\">\n",
      "<p class=\"pages\">Download this list of PDFs</p>\n",
      "<li>PDF Document <a href=\"pdf_1.pdf\">1</a> </li>\n",
      "<li>PDF Document <a href=\"pdf_2.pdf\">2</a></li>\n",
      "<li>PDF Document <a href=\"pdf_3.pdf\">3</a></li>\n",
      "<li>PDF Document <a href=\"pdf_4.pdf\">4</a></li>\n",
      "<li>PDF Document <a href=\"pdf_5.pdf\">5</a></li>\n",
      "<li>PDF Document <a href=\"pdf_6.pdf\">6</a></li>\n",
      "<li>PDF Document <a href=\"pdf_7.pdf\">7</a></li>\n",
      "<li>PDF Document <a href=\"pdf_8.pdf\">8</a></li>\n",
      "<li>PDF Document <a href=\"pdf_9.pdf\">9</a></li>\n",
      "<li>PDF Document <a href=\"pdf_10.pdf\">10</a></li>\n",
      "</ul>\n",
      "</div>\n",
      "</body>\n",
      "</html>\n"
     ]
    }
   ],
   "source": [
    "## get url and print but hard to read. will do prettify next\n",
    "page = requests.get(url)\n",
    "soup = BeautifulSoup(page.content, \"html.parser\")\n",
    "print(soup)"
   ]
  },
  {
   "cell_type": "code",
   "execution_count": 5,
   "metadata": {},
   "outputs": [
    {
     "name": "stdout",
     "output_type": "stream",
     "text": [
      "[<ul class=\"txts downloadable\">\n",
      "<p class=\"pages\">Download this list of text documents</p>\n",
      "<li>Text Document <a href=\"text_doc1.txt\">1</a> </li>\n",
      "<li>Text Document <a href=\"text_doc2.txt\">2</a></li>\n",
      "<li>Text Document <a href=\"text_doc3.txt\">3</a></li>\n",
      "<li>Text Document <a href=\"text_doc4.txt\">4</a></li>\n",
      "<li>Text Document <a href=\"text_doc5.txt\">5</a></li>\n",
      "<li>Text Document <a href=\"text_doc6.txt\">6</a></li>\n",
      "<li>Text Document <a href=\"text_doc7.txt\">7</a></li>\n",
      "<li>Text Document <a href=\"text_doc8.txt\">8</a></li>\n",
      "<li>Text Document <a href=\"text_doc9.txt\">9</a></li>\n",
      "<li>Text Document <a href=\"text_doc10.txt\">10</a></li>\n",
      "</ul>]\n"
     ]
    }
   ],
   "source": [
    "txt_holder = soup.find_all(\"ul\", {\"class\": \"txts\"})\n",
    "print(txt_holder)"
   ]
  },
  {
   "cell_type": "code",
   "execution_count": 7,
   "metadata": {},
   "outputs": [
    {
     "name": "stdout",
     "output_type": "stream",
     "text": [
      "<class 'bs4.element.ResultSet'>\n",
      "[<a href=\"text_doc1.txt\">1</a>, <a href=\"text_doc2.txt\">2</a>, <a href=\"text_doc3.txt\">3</a>, <a href=\"text_doc4.txt\">4</a>, <a href=\"text_doc5.txt\">5</a>, <a href=\"text_doc6.txt\">6</a>, <a href=\"text_doc7.txt\">7</a>, <a href=\"text_doc8.txt\">8</a>, <a href=\"text_doc9.txt\">9</a>, <a href=\"text_doc10.txt\">10</a>]\n"
     ]
    }
   ],
   "source": [
    "for txt_files in txt_holder:\n",
    "    txt_file_links = txt_files.find_all(\"a\")\n",
    "    print(type(txt_file_links))\n",
    "    print(txt_file_links)"
   ]
  },
  {
   "cell_type": "code",
   "execution_count": 10,
   "metadata": {},
   "outputs": [],
   "source": [
    "base_url = \"https://sandeepmj.github.io/scrape-example-page/\""
   ]
  },
  {
   "cell_type": "code",
   "execution_count": 11,
   "metadata": {},
   "outputs": [
    {
     "name": "stdout",
     "output_type": "stream",
     "text": [
      "['https://sandeepmj.github.io/scrape-example-page/text_doc1.txt', 'https://sandeepmj.github.io/scrape-example-page/text_doc2.txt', 'https://sandeepmj.github.io/scrape-example-page/text_doc3.txt', 'https://sandeepmj.github.io/scrape-example-page/text_doc4.txt', 'https://sandeepmj.github.io/scrape-example-page/text_doc5.txt', 'https://sandeepmj.github.io/scrape-example-page/text_doc6.txt', 'https://sandeepmj.github.io/scrape-example-page/text_doc7.txt', 'https://sandeepmj.github.io/scrape-example-page/text_doc8.txt', 'https://sandeepmj.github.io/scrape-example-page/text_doc9.txt', 'https://sandeepmj.github.io/scrape-example-page/text_doc10.txt']\n"
     ]
    }
   ],
   "source": [
    "# for txt_file in txt_files:\n",
    "#     print(txt_file.get(\"href\"))\n",
    "\n",
    "all_links = [base_url + txt_file_link.get(\"href\") for txt_file_link in txt_file_links]\n",
    "print(all_links)"
   ]
  },
  {
   "cell_type": "code",
   "execution_count": 12,
   "metadata": {},
   "outputs": [],
   "source": [
    "import time # time is required. we will use its sleep function\n",
    "from random import randrange # generate random numbers\n",
    "import wget # can put down documents, files from websites"
   ]
  },
  {
   "cell_type": "code",
   "execution_count": null,
   "metadata": {},
   "outputs": [],
   "source": []
  }
 ],
 "metadata": {
  "kernelspec": {
   "display_name": "Python 3",
   "language": "python",
   "name": "python3"
  },
  "language_info": {
   "codemirror_mode": {
    "name": "ipython",
    "version": 3
   },
   "file_extension": ".py",
   "mimetype": "text/x-python",
   "name": "python",
   "nbconvert_exporter": "python",
   "pygments_lexer": "ipython3",
   "version": "3.7.7"
  }
 },
 "nbformat": 4,
 "nbformat_minor": 4
}
