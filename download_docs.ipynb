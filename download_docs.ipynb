{
 "cells": [
  {
   "cell_type": "markdown",
   "metadata": {
    "slideshow": {
     "slide_type": "slide"
    }
   },
   "source": [
    "# Scraping Files from Websites "
   ]
  },
  {
   "cell_type": "markdown",
   "metadata": {
    "slideshow": {
     "slide_type": "slide"
    }
   },
   "source": [
    "### You need to create a data set that tracks how many companies the SEC suspended between 2019 and 1999. You find the data at:\n",
    "\n",
    "```https://www.sec.gov/litigation/suspensions.shtml```\n",
    "\n"
   ]
  },
  {
   "cell_type": "markdown",
   "metadata": {
    "slideshow": {
     "slide_type": "slide"
    }
   },
   "source": [
    "### Write a scraper that aggregates:\n",
    "\n",
    "* Date of suspension\n",
    "* Company name\n",
    "* Order\n",
    "* Release (the PDFs in the XX-YYYYY format)"
   ]
  },
  {
   "cell_type": "markdown",
   "metadata": {
    "slideshow": {
     "slide_type": "slide"
    }
   },
   "source": [
    "# The Challenge?"
   ]
  },
  {
   "cell_type": "markdown",
   "metadata": {
    "slideshow": {
     "slide_type": "slide"
    }
   },
   "source": [
    "### Details are actually in PDFs!"
   ]
  },
  {
   "cell_type": "markdown",
   "metadata": {
    "slideshow": {
     "slide_type": "slide"
    }
   },
   "source": [
    "# Demo downloading files from websites "
   ]
  },
  {
   "cell_type": "markdown",
   "metadata": {
    "slideshow": {
     "slide_type": "slide"
    }
   },
   "source": [
    "There are ```txt``` and ```pdf``` files on:\n",
    "\n",
    "```https://sandeepmj.github.io/scrape-example-page/pages.html```\n",
    "\n",
    "Do the following:\n",
    "\n",
    "1. Download all ```txt``` files.\n",
    "2. Download all ```pdf``` files.\n",
    "3. Download all files as one."
   ]
  },
  {
   "cell_type": "code",
   "execution_count": 18,
   "metadata": {
    "slideshow": {
     "slide_type": "slide"
    }
   },
   "outputs": [],
   "source": [
    "# import libraries\n",
    "from bs4 import BeautifulSoup  ## scrape info from web pages\n",
    "import requests ## get web pages from server\n",
    "import time # time is required. we will use its sleep function\n",
    "from random import randrange # generate random numbers\n",
    "import wget # can put down documents, files from websites\n",
    "# from google.colab import files ## code for downloading in google colab"
   ]
  },
  {
   "cell_type": "code",
   "execution_count": 19,
   "metadata": {
    "slideshow": {
     "slide_type": "slide"
    }
   },
   "outputs": [],
   "source": [
    "# url to scrape\n",
    "url = \"https://sandeepmj.github.io/scrape-example-page/pages.html\""
   ]
  },
  {
   "cell_type": "markdown",
   "metadata": {
    "slideshow": {
     "slide_type": "slide"
    }
   },
   "source": [
    "## Turn page into soup"
   ]
  },
  {
   "cell_type": "code",
   "execution_count": 20,
   "metadata": {
    "slideshow": {
     "slide_type": "slide"
    }
   },
   "outputs": [
    {
     "name": "stdout",
     "output_type": "stream",
     "text": [
      "<html lang=\"en\">\n",
      "<head>\n",
      "<!-- Makes the page responsive and scaled to be read easily -->\n",
      "<meta content=\"width=device-width, initial-scale=1\" name=\"viewport\"/>\n",
      "<!-- Links to stylesheet -->\n",
      "<link href=\"style.css\" rel=\"stylesheet\" type=\"text/css\"/>\n",
      "<!-- Remember to update page title -->\n",
      "<title>List of Documents</title>\n",
      "</head>\n",
      "<body>\n",
      "<!-- All content goes here -->\n",
      "<div class=\"container\">\n",
      "<h1>Documents to Download</h1>\n",
      "<ul class=\"txts downloadable\">\n",
      "<p class=\"pages\">Download this list of text documents</p>\n",
      "<li>Text Document <a href=\"files/text_doc_01.txt\">1</a> </li>\n",
      "<li>Text Document <a href=\"files/text_doc_02.txt\">2</a></li>\n",
      "<li>Text Document <a href=\"files/text_doc_03.txt\">3</a></li>\n",
      "<li>Text Document <a href=\"files/text_doc_04.txt\">4</a></li>\n",
      "<li>Text Document <a href=\"files/text_doc_05.txt\">5</a></li>\n",
      "<li>Text Document <a href=\"files/text_doc_06.txt\">6</a></li>\n",
      "<li>Text Document <a href=\"files/text_doc_07.txt\">7</a></li>\n",
      "<li>Text Document <a href=\"files/text_doc_08.txt\">8</a></li>\n",
      "<li>Text Document <a href=\"files/text_doc_09.txt\">9</a></li>\n",
      "<li>Text Document <a href=\"files/text_doc_10.txt\">10</a></li>\n",
      "</ul>\n",
      "<ul class=\"pdfs downloadable\">\n",
      "<p class=\"pages\">Download this list of PDFs</p>\n",
      "<li>PDF Document <a href=\"files/pdf_1.pdf\">1</a> </li>\n",
      "<li>PDF Document <a href=\"files/pdf_2.pdf\">2</a></li>\n",
      "<li>PDF Document <a href=\"files/pdf_3.pdf\">3</a></li>\n",
      "<li>PDF Document <a href=\"files/pdf_4.pdf\">4</a></li>\n",
      "<li>PDF Document <a href=\"files/pdf_5.pdf\">5</a></li>\n",
      "<li>PDF Document <a href=\"files/pdf_6.pdf\">6</a></li>\n",
      "<li>PDF Document <a href=\"files/pdf_7.pdf\">7</a></li>\n",
      "<li>PDF Document <a href=\"files/pdf_8.pdf\">8</a></li>\n",
      "<li>PDF Document <a href=\"files/pdf_9.pdf\">9</a></li>\n",
      "<li>PDF Document <a href=\"files/pdf_10.pdf\">10</a></li>\n",
      "</ul>\n",
      "</div>\n",
      "</body>\n",
      "</html>\n"
     ]
    }
   ],
   "source": [
    "## get url and print but hard to read. will do prettify next\n",
    "page = requests.get(url)\n",
    "soup = BeautifulSoup(page.content, \"html.parser\")\n",
    "print(soup)"
   ]
  },
  {
   "cell_type": "markdown",
   "metadata": {
    "slideshow": {
     "slide_type": "slide"
    }
   },
   "source": [
    "## Find all txt files"
   ]
  },
  {
   "cell_type": "code",
   "execution_count": 21,
   "metadata": {
    "slideshow": {
     "slide_type": "slide"
    }
   },
   "outputs": [
    {
     "name": "stdout",
     "output_type": "stream",
     "text": [
      "[<ul class=\"txts downloadable\">\n",
      "<p class=\"pages\">Download this list of text documents</p>\n",
      "<li>Text Document <a href=\"files/text_doc_01.txt\">1</a> </li>\n",
      "<li>Text Document <a href=\"files/text_doc_02.txt\">2</a></li>\n",
      "<li>Text Document <a href=\"files/text_doc_03.txt\">3</a></li>\n",
      "<li>Text Document <a href=\"files/text_doc_04.txt\">4</a></li>\n",
      "<li>Text Document <a href=\"files/text_doc_05.txt\">5</a></li>\n",
      "<li>Text Document <a href=\"files/text_doc_06.txt\">6</a></li>\n",
      "<li>Text Document <a href=\"files/text_doc_07.txt\">7</a></li>\n",
      "<li>Text Document <a href=\"files/text_doc_08.txt\">8</a></li>\n",
      "<li>Text Document <a href=\"files/text_doc_09.txt\">9</a></li>\n",
      "<li>Text Document <a href=\"files/text_doc_10.txt\">10</a></li>\n",
      "</ul>]\n"
     ]
    }
   ],
   "source": [
    "txt_holder = soup.find_all(\"ul\", class_=\"txts\")\n",
    "print(txt_holder)"
   ]
  },
  {
   "cell_type": "markdown",
   "metadata": {
    "slideshow": {
     "slide_type": "slide"
    }
   },
   "source": [
    "## Find all the ```a``` tags "
   ]
  },
  {
   "cell_type": "code",
   "execution_count": 22,
   "metadata": {
    "slideshow": {
     "slide_type": "slide"
    }
   },
   "outputs": [
    {
     "name": "stdout",
     "output_type": "stream",
     "text": [
      "<class 'bs4.element.ResultSet'>\n",
      "[<a href=\"files/text_doc_01.txt\">1</a>, <a href=\"files/text_doc_02.txt\">2</a>, <a href=\"files/text_doc_03.txt\">3</a>, <a href=\"files/text_doc_04.txt\">4</a>, <a href=\"files/text_doc_05.txt\">5</a>, <a href=\"files/text_doc_06.txt\">6</a>, <a href=\"files/text_doc_07.txt\">7</a>, <a href=\"files/text_doc_08.txt\">8</a>, <a href=\"files/text_doc_09.txt\">9</a>, <a href=\"files/text_doc_10.txt\">10</a>]\n"
     ]
    }
   ],
   "source": [
    "for txt_files in txt_holder:\n",
    "    txt_file_links = txt_files.find_all(\"a\")\n",
    "    print(type(txt_file_links))\n",
    "    print(txt_file_links)"
   ]
  },
  {
   "cell_type": "markdown",
   "metadata": {
    "slideshow": {
     "slide_type": "slide"
    }
   },
   "source": [
    "## What is missing from the URLs?"
   ]
  },
  {
   "cell_type": "code",
   "execution_count": 23,
   "metadata": {
    "slideshow": {
     "slide_type": "slide"
    }
   },
   "outputs": [],
   "source": [
    "base_url = \"https://sandeepmj.github.io/scrape-example-page/\""
   ]
  },
  {
   "cell_type": "markdown",
   "metadata": {
    "slideshow": {
     "slide_type": "slide"
    }
   },
   "source": [
    "## Create a list of the full URLs\n",
    "\n",
    "Without all the ```html```"
   ]
  },
  {
   "cell_type": "code",
   "execution_count": 24,
   "metadata": {
    "slideshow": {
     "slide_type": "slide"
    }
   },
   "outputs": [
    {
     "name": "stdout",
     "output_type": "stream",
     "text": [
      "['https://sandeepmj.github.io/scrape-example-page/files/text_doc_01.txt', 'https://sandeepmj.github.io/scrape-example-page/files/text_doc_02.txt', 'https://sandeepmj.github.io/scrape-example-page/files/text_doc_03.txt', 'https://sandeepmj.github.io/scrape-example-page/files/text_doc_04.txt', 'https://sandeepmj.github.io/scrape-example-page/files/text_doc_05.txt', 'https://sandeepmj.github.io/scrape-example-page/files/text_doc_06.txt', 'https://sandeepmj.github.io/scrape-example-page/files/text_doc_07.txt', 'https://sandeepmj.github.io/scrape-example-page/files/text_doc_08.txt', 'https://sandeepmj.github.io/scrape-example-page/files/text_doc_09.txt', 'https://sandeepmj.github.io/scrape-example-page/files/text_doc_10.txt']\n"
     ]
    }
   ],
   "source": [
    " n"
   ]
  },
  {
   "cell_type": "markdown",
   "metadata": {
    "slideshow": {
     "slide_type": "slide"
    }
   },
   "source": [
    "## Download all the ```txt``` documents"
   ]
  },
  {
   "cell_type": "code",
   "execution_count": 25,
   "metadata": {
    "slideshow": {
     "slide_type": "slide"
    }
   },
   "outputs": [
    {
     "name": "stdout",
     "output_type": "stream",
     "text": [
      "Downloaded link 1 of 10\n",
      "snoozing for 5 seconds before scraping next link.\n",
      "Downloaded link 2 of 10\n",
      "snoozing for 3 seconds before scraping next link.\n",
      "Downloaded link 3 of 10\n",
      "snoozing for 3 seconds before scraping next link.\n",
      "Downloaded link 4 of 10\n",
      "snoozing for 5 seconds before scraping next link.\n",
      "Downloaded link 5 of 10\n",
      "snoozing for 4 seconds before scraping next link.\n",
      "Downloaded link 6 of 10\n",
      "snoozing for 4 seconds before scraping next link.\n",
      "Downloaded link 7 of 10\n",
      "snoozing for 3 seconds before scraping next link.\n",
      "Downloaded link 8 of 10\n",
      "snoozing for 3 seconds before scraping next link.\n",
      "Downloaded link 9 of 10\n",
      "snoozing for 3 seconds before scraping next link.\n",
      "Downloaded link 10 of 10\n",
      "snoozing for 4 seconds before scraping next link.\n"
     ]
    }
   ],
   "source": [
    "links_number = len(all_txt_links)\n",
    "link_count = 1\n",
    "for link in all_txt_links:\n",
    "    print(f\"Downloaded link {link_count} of {links_number}\")\n",
    "#     files.download(wget.download(link,\"\")) ## needed in colab instead of next line\n",
    "    wget.download(link, \"\")\n",
    "    link_count += 1\n",
    "    snooze = randrange(3,6)\n",
    "    print(f\"snoozing for {snooze} seconds before scraping next link.\")\n",
    "    time.sleep(snooze)"
   ]
  },
  {
   "cell_type": "markdown",
   "metadata": {
    "slideshow": {
     "slide_type": "slide"
    }
   },
   "source": [
    "# Find all ```pdf``` files"
   ]
  },
  {
   "cell_type": "code",
   "execution_count": 9,
   "metadata": {
    "slideshow": {
     "slide_type": "slide"
    }
   },
   "outputs": [
    {
     "name": "stdout",
     "output_type": "stream",
     "text": [
      "[<ul class=\"pdfs downloadable\">\n",
      "<p class=\"pages\">Download this list of PDFs</p>\n",
      "<li>PDF Document <a href=\"files/pdf_1.pdf\">1</a> </li>\n",
      "<li>PDF Document <a href=\"files/pdf_2.pdf\">2</a></li>\n",
      "<li>PDF Document <a href=\"files/pdf_3.pdf\">3</a></li>\n",
      "<li>PDF Document <a href=\"files/pdf_4.pdf\">4</a></li>\n",
      "<li>PDF Document <a href=\"files/pdf_5.pdf\">5</a></li>\n",
      "<li>PDF Document <a href=\"files/pdf_6.pdf\">6</a></li>\n",
      "<li>PDF Document <a href=\"files/pdf_7.pdf\">7</a></li>\n",
      "<li>PDF Document <a href=\"files/pdf_8.pdf\">8</a></li>\n",
      "<li>PDF Document <a href=\"files/pdf_9.pdf\">9</a></li>\n",
      "<li>PDF Document <a href=\"files/pdf_10.pdf\">10</a></li>\n",
      "</ul>]\n"
     ]
    }
   ],
   "source": [
    "pdf_holder = soup.find_all(\"ul\", class_= \"pdfs\")\n",
    "print(pdf_holder)"
   ]
  },
  {
   "cell_type": "markdown",
   "metadata": {
    "slideshow": {
     "slide_type": "slide"
    }
   },
   "source": [
    "## Find all the ```a``` tags "
   ]
  },
  {
   "cell_type": "code",
   "execution_count": 10,
   "metadata": {
    "slideshow": {
     "slide_type": "slide"
    }
   },
   "outputs": [
    {
     "name": "stdout",
     "output_type": "stream",
     "text": [
      "<class 'bs4.element.ResultSet'>\n",
      "[<a href=\"files/pdf_1.pdf\">1</a>, <a href=\"files/pdf_2.pdf\">2</a>, <a href=\"files/pdf_3.pdf\">3</a>, <a href=\"files/pdf_4.pdf\">4</a>, <a href=\"files/pdf_5.pdf\">5</a>, <a href=\"files/pdf_6.pdf\">6</a>, <a href=\"files/pdf_7.pdf\">7</a>, <a href=\"files/pdf_8.pdf\">8</a>, <a href=\"files/pdf_9.pdf\">9</a>, <a href=\"files/pdf_10.pdf\">10</a>]\n"
     ]
    }
   ],
   "source": [
    "for pdf_files in pdf_holder:\n",
    "    pdf_file_links = pdf_files.find_all(\"a\")\n",
    "    print(type(pdf_file_links))\n",
    "    print(pdf_file_links)"
   ]
  },
  {
   "cell_type": "markdown",
   "metadata": {
    "slideshow": {
     "slide_type": "slide"
    }
   },
   "source": [
    "## Find all the ```a``` tags \n",
    "\n",
    "Without all the ```html```"
   ]
  },
  {
   "cell_type": "code",
   "execution_count": 11,
   "metadata": {
    "slideshow": {
     "slide_type": "slide"
    }
   },
   "outputs": [
    {
     "name": "stdout",
     "output_type": "stream",
     "text": [
      "['https://sandeepmj.github.io/scrape-example-page/files/pdf_1.pdf', 'https://sandeepmj.github.io/scrape-example-page/files/pdf_2.pdf', 'https://sandeepmj.github.io/scrape-example-page/files/pdf_3.pdf', 'https://sandeepmj.github.io/scrape-example-page/files/pdf_4.pdf', 'https://sandeepmj.github.io/scrape-example-page/files/pdf_5.pdf', 'https://sandeepmj.github.io/scrape-example-page/files/pdf_6.pdf', 'https://sandeepmj.github.io/scrape-example-page/files/pdf_7.pdf', 'https://sandeepmj.github.io/scrape-example-page/files/pdf_8.pdf', 'https://sandeepmj.github.io/scrape-example-page/files/pdf_9.pdf', 'https://sandeepmj.github.io/scrape-example-page/files/pdf_10.pdf']\n"
     ]
    }
   ],
   "source": [
    "all_pdf_links = [base_url + pdf_file_link.get(\"href\") for pdf_file_link in pdf_file_links]\n",
    "print(all_pdf_links)"
   ]
  },
  {
   "cell_type": "markdown",
   "metadata": {
    "slideshow": {
     "slide_type": "slide"
    }
   },
   "source": [
    "## Download all the ```pdf``` documents"
   ]
  },
  {
   "cell_type": "code",
   "execution_count": 12,
   "metadata": {
    "slideshow": {
     "slide_type": "slide"
    }
   },
   "outputs": [
    {
     "name": "stdout",
     "output_type": "stream",
     "text": [
      "Downloaded link 1 of 10\n",
      "snoozing for 4 seconds before scraping next link.\n",
      "Downloaded link 2 of 10\n",
      "snoozing for 5 seconds before scraping next link.\n",
      "Downloaded link 3 of 10\n",
      "snoozing for 3 seconds before scraping next link.\n",
      "Downloaded link 4 of 10\n",
      "snoozing for 3 seconds before scraping next link.\n",
      "Downloaded link 5 of 10\n",
      "snoozing for 4 seconds before scraping next link.\n",
      "Downloaded link 6 of 10\n",
      "snoozing for 4 seconds before scraping next link.\n",
      "Downloaded link 7 of 10\n",
      "snoozing for 4 seconds before scraping next link.\n",
      "Downloaded link 8 of 10\n",
      "snoozing for 4 seconds before scraping next link.\n",
      "Downloaded link 9 of 10\n",
      "snoozing for 4 seconds before scraping next link.\n",
      "Downloaded link 10 of 10\n",
      "snoozing for 5 seconds before scraping next link.\n"
     ]
    }
   ],
   "source": [
    "links_number = len(all_pdf_links)\n",
    "link_count = 1\n",
    "for link in all_pdf_links:\n",
    "    print(f\"Downloaded link {link_count} of {links_number}\")\n",
    "    #files.download(wget.download(link,\"\")) ## needed in colab instead of next line\n",
    "    wget.download(link, \"\")\n",
    "    link_count += 1\n",
    "    snooze = randrange(3,6)\n",
    "    print(f\"snoozing for {snooze} seconds before scraping next link.\")\n",
    "    time.sleep(snooze)"
   ]
  },
  {
   "cell_type": "markdown",
   "metadata": {
    "slideshow": {
     "slide_type": "slide"
    }
   },
   "source": [
    "## Find all the files and download at one go"
   ]
  },
  {
   "cell_type": "code",
   "execution_count": 13,
   "metadata": {
    "slideshow": {
     "slide_type": "slide"
    }
   },
   "outputs": [
    {
     "data": {
      "text/plain": [
       "[<li>Text Document <a href=\"files/text_doc_01.txt\">1</a> </li>,\n",
       " <li>Text Document <a href=\"files/text_doc_02.txt\">2</a></li>,\n",
       " <li>Text Document <a href=\"files/text_doc_03.txt\">3</a></li>,\n",
       " <li>Text Document <a href=\"files/text_doc_04.txt\">4</a></li>,\n",
       " <li>Text Document <a href=\"files/text_doc_05.txt\">5</a></li>,\n",
       " <li>Text Document <a href=\"files/text_doc_06.txt\">6</a></li>,\n",
       " <li>Text Document <a href=\"files/text_doc_07.txt\">7</a></li>,\n",
       " <li>Text Document <a href=\"files/text_doc_08.txt\">8</a></li>,\n",
       " <li>Text Document <a href=\"files/text_doc_09.txt\">9</a></li>,\n",
       " <li>Text Document <a href=\"files/text_doc_10.txt\">10</a></li>,\n",
       " <li>PDF Document <a href=\"files/pdf_1.pdf\">1</a> </li>,\n",
       " <li>PDF Document <a href=\"files/pdf_2.pdf\">2</a></li>,\n",
       " <li>PDF Document <a href=\"files/pdf_3.pdf\">3</a></li>,\n",
       " <li>PDF Document <a href=\"files/pdf_4.pdf\">4</a></li>,\n",
       " <li>PDF Document <a href=\"files/pdf_5.pdf\">5</a></li>,\n",
       " <li>PDF Document <a href=\"files/pdf_6.pdf\">6</a></li>,\n",
       " <li>PDF Document <a href=\"files/pdf_7.pdf\">7</a></li>,\n",
       " <li>PDF Document <a href=\"files/pdf_8.pdf\">8</a></li>,\n",
       " <li>PDF Document <a href=\"files/pdf_9.pdf\">9</a></li>,\n",
       " <li>PDF Document <a href=\"files/pdf_10.pdf\">10</a></li>]"
      ]
     },
     "execution_count": 13,
     "metadata": {},
     "output_type": "execute_result"
    }
   ],
   "source": [
    "## find all files in our soup\n",
    "all_holder = soup.find_all(\"li\")\n",
    "all_holder"
   ]
  },
  {
   "cell_type": "markdown",
   "metadata": {
    "slideshow": {
     "slide_type": "slide"
    }
   },
   "source": [
    "## Isolate the urls"
   ]
  },
  {
   "cell_type": "code",
   "execution_count": null,
   "metadata": {
    "slideshow": {
     "slide_type": "slide"
    }
   },
   "outputs": [],
   "source": [
    "all_files = [base_url + link.find(\"a\").get(\"href\") for link in all_holder]\n",
    "all_files"
   ]
  },
  {
   "cell_type": "markdown",
   "metadata": {
    "slideshow": {
     "slide_type": "slide"
    }
   },
   "source": [
    "## Download all files"
   ]
  },
  {
   "cell_type": "code",
   "execution_count": null,
   "metadata": {
    "slideshow": {
     "slide_type": "slide"
    }
   },
   "outputs": [],
   "source": [
    "links_number = len(all_files)\n",
    "link_count = 1\n",
    "for link in all_files:\n",
    "    print(f\"Downloaded link {link_count} of {links_number}\")\n",
    "   # files.download(wget.download(link,\"\")) ## needed in colab instead of next line\n",
    "    wget.download(link, \"\")\n",
    "    link_count += 1\n",
    "    snooze = randrange(3,6)\n",
    "    print(f\"snoozing for {snooze} seconds before scraping next link.\")\n",
    "    time.sleep(snooze)"
   ]
  },
  {
   "cell_type": "markdown",
   "metadata": {},
   "source": [
    "# go for class downloadable"
   ]
  },
  {
   "cell_type": "code",
   "execution_count": null,
   "metadata": {},
   "outputs": [],
   "source": [
    "## find all files in our soup\n",
    "docs_holder = soup.find_all(\"ul\", class_ = \"downloadable\")\n",
    "docs_holder"
   ]
  },
  {
   "cell_type": "code",
   "execution_count": null,
   "metadata": {},
   "outputs": [],
   "source": [
    "type(docs_holder)"
   ]
  },
  {
   "cell_type": "code",
   "execution_count": null,
   "metadata": {},
   "outputs": [],
   "source": [
    "all_urls = []\n",
    "for myLI in docs_holder:\n",
    "    myLI = myLI.find_all(\"a\")\n",
    "    for url in myLI:\n",
    "        url = url.get(\"href\")\n",
    "        print(url)\n",
    "        all_urls.append(base_url + url)\n",
    "\n",
    "all_urls"
   ]
  },
  {
   "cell_type": "code",
   "execution_count": null,
   "metadata": {},
   "outputs": [],
   "source": [
    "links_number = len(all_urls)\n",
    "link_count = 1\n",
    "for link in all_urls:\n",
    "    print(f\"Downloaded link {link_count} of {links_number}\")\n",
    "    wget.download(link, \"\")\n",
    "    link_count += 1\n",
    "    snooze = randrange(3,6)\n",
    "    print(f\"snoozing for {snooze} seconds before scraping next link.\")"
   ]
  },
  {
   "cell_type": "markdown",
   "metadata": {},
   "source": [
    "## Misc.\n",
    "\n",
    "If you target the ```li``` tag, you can skip the separate step of targetting the ```a``` tags with ```find_all```."
   ]
  },
  {
   "cell_type": "code",
   "execution_count": null,
   "metadata": {
    "slideshow": {
     "slide_type": "slide"
    }
   },
   "outputs": [],
   "source": [
    "for pdf_files in pdf_holder:\n",
    "    pdf_file_links = pdf_files.find_all(\"li\")\n",
    "    print(type(pdf_file_links))\n",
    "    print(pdf_file_links)"
   ]
  }
 ],
 "metadata": {
  "celltoolbar": "Slideshow",
  "kernelspec": {
   "display_name": "Python 3",
   "language": "python",
   "name": "python3"
  },
  "language_info": {
   "codemirror_mode": {
    "name": "ipython",
    "version": 3
   },
   "file_extension": ".py",
   "mimetype": "text/x-python",
   "name": "python",
   "nbconvert_exporter": "python",
   "pygments_lexer": "ipython3",
   "version": "3.7.7"
  }
 },
 "nbformat": 4,
 "nbformat_minor": 4
}
